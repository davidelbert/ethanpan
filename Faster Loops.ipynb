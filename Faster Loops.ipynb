{
 "cells": [
  {
   "cell_type": "markdown",
   "id": "d673f482",
   "metadata": {},
   "source": [
    "## Better Than Loops: Iterating is slow – Vectorization if fast"
   ]
  },
  {
   "cell_type": "markdown",
   "id": "81b90a00",
   "metadata": {},
   "source": [
    "###### Imagine you have a homework problem that says: We need to generate a function which provides rewards to a person based on these conditions:\n",
    "\n",
    "1. If the average sleeping time is ≥ 6 hours, and the annual income is between five and ten thousand dollars, they get a bonus of 15% of their current income.\n",
    "2. If their age is between 60 and 90, and they are female they get a bonus of 20%. If they are male they get a bonus of 18%.\n",
    "3. In addition to the above conditions they get a 10% bonus.\n",
    "\n",
    "Start with a cell to make a dataframe with some made up data on age, contact details, sleep cycle, gender, income, phone number, and favorite food. Make 10 million rows of data."
   ]
  },
  {
   "cell_type": "code",
   "execution_count": null,
   "id": "562ac1dc",
   "metadata": {},
   "outputs": [],
   "source": [
    "! python --version"
   ]
  },
  {
   "cell_type": "code",
   "execution_count": null,
   "id": "3724eb9f",
   "metadata": {},
   "outputs": [],
   "source": [
    "import pandas as pd\n",
    "import numpy as np\n",
    "\n",
    "def generate_df(size):\n",
    "    \n",
    "    df = pd.DataFrame()\n",
    "    df['age'] = np.random.randint(1,100,size)\n",
    "    df['avg_sleeping'] = np.random.randint(1,24, size)\n",
    "    df['gender'] = np.random.choice(['Male','Female'], size)\n",
    "    df['annual_income'] = np.random.randint(1000,100000, size)\n",
    "    df['phone_number'] = np.random.randint(1_111_111_111, 9_999_999_999, size)\n",
    "    df['favorite_food'] = np.random.choice(['pizza', 'burger', 'chips', 'nachos'], size)\n",
    "    \n",
    "    return df\n",
    "\n",
    "df = generate_df(10_000_000) # 10 million rows.\n",
    "df.info()"
   ]
  },
  {
   "cell_type": "markdown",
   "id": "2b14b597",
   "metadata": {},
   "source": [
    "###### We see that the dataframe is about 460 megabytes.   Now make a reward function using a row as input and giving the bonus as an output:\n"
   ]
  },
  {
   "cell_type": "code",
   "execution_count": null,
   "id": "43497da0",
   "metadata": {},
   "outputs": [],
   "source": [
    "def reward_function(row):\n",
    "    total_bonus = 0\n",
    "\n",
    "    if (row['avg_sleeping'] >= 6) and (5000 <= row['annual_income'] <= 10000):\n",
    "        total_bonus += row['annual_income']*10/100\n",
    "    \n",
    "    if (60<=row['age']<=90) and row['gender'] == 'Female':\n",
    "        total_bonus += row['annual_income'] * 20/100\n",
    "    \n",
    "    elif (60<=row['age']<=90) and row['gender'] == 'Male':\n",
    "        total_bonus += row['annual_income'] * 18/100\n",
    "    \n",
    "    total_bonus += row['annual_income'] * 10/100\n",
    "    \n",
    "    return total_bonus\n",
    "\n",
    "# Here's a wrapper function which will make it easier to time the use of the function:\n",
    "\n",
    "def wrapper(func, *args, **kwargs):\n",
    "    def wrapped():\n",
    "        return func(*args, **kwargs)\n",
    "    return wrapped"
   ]
  },
  {
   "cell_type": "markdown",
   "id": "b8886008",
   "metadata": {},
   "source": [
    "##### Now let's compare the speed of applying this function to every row. We can do it three ways.  Start with the simplest idea which is with a for loop and look at the timings up to a million rows:"
   ]
  },
  {
   "cell_type": "code",
   "execution_count": null,
   "id": "53867d74",
   "metadata": {},
   "outputs": [],
   "source": [
    "def loop_function(size):\n",
    "    df = generate_df(size)\n",
    "    for idx, row in df.iterrows():\n",
    "        df.loc[idx, 'bonus'] = reward_function(row)\n",
    "        \n",
    "    return df\n",
    "\n",
    "import timeit\n",
    "\n",
    "sizes = ['10','50', '100','150','1_000','1_500','10_000','15_000','100_000','150_000','1_000_000']\n",
    "time_loop = []\n",
    "\n",
    "for size in sizes:\n",
    "    \n",
    "    size = int(size)\n",
    "    \n",
    "    wrap = wrapper(loop_function, size)\n",
    "    n = timeit.timeit(wrap, number = 10)\n",
    "    \n",
    "    time_loop.append(n)\n",
    "    \n",
    "    \n",
    "    print(f'Size: {size} | Time: {n}')"
   ]
  },
  {
   "cell_type": "markdown",
   "id": "0ab2bc85",
   "metadata": {},
   "source": [
    "#### Note that it takes about \n",
    "##### Now try something a little faster than a for loop. Try using the built-in function \"apply\" which automatically iterates over the rows so it doesn't need a loop."
   ]
  },
  {
   "cell_type": "code",
   "execution_count": null,
   "id": "51adfe3c",
   "metadata": {},
   "outputs": [],
   "source": [
    "def apply_function(size):\n",
    "    df = generate_df(size)\n",
    "    df['reward'] = df.apply(reward_function, axis=1)\n",
    "    return df\n",
    "\n",
    "import timeit\n",
    "\n",
    "sizes = ['10','50', '100','150','1_000','1_500','10_000','15_000','100_000','150_000','1_000_000']\n",
    "time_apply = []\n",
    "\n",
    "for size in sizes:\n",
    "    \n",
    "    size = int(size)\n",
    "    \n",
    "    wrap = wrapper(apply_function, size)\n",
    "    n = timeit.timeit(wrap, number = 10)\n",
    "    \n",
    "    time_apply.append(n)\n",
    "    \n",
    "    \n",
    "    print(f'Size: {size} | Time: {n}')"
   ]
  },
  {
   "cell_type": "markdown",
   "id": "c04010fc",
   "metadata": {},
   "source": [
    "##### Notice that the apply function is ~51x faster than a loop."
   ]
  },
  {
   "cell_type": "markdown",
   "id": "583a732a",
   "metadata": {},
   "source": [
    "#### We can try a third method by using vectorization.  Vectorization converts a function into a *vectorized* *function* which provides parallel computation. "
   ]
  },
  {
   "cell_type": "code",
   "execution_count": null,
   "id": "b95f2375",
   "metadata": {},
   "outputs": [],
   "source": [
    "def vectorize_function(size):\n",
    "    df = generate_df(size)\n",
    "    return np.vectorize(reward_function_part)(df['avg_sleeping'], df['annual_income'], df['gender'], df['age'])\n",
    "\n",
    "import timeit\n",
    "\n",
    "sizes = ['10','50', '100','150','1_000','1_500','10_000','15_000','100_000','150_000','1_000_000']\n",
    "time_vector = []\n",
    "\n",
    "for size in sizes:\n",
    "    \n",
    "    size = int(size)\n",
    "    \n",
    "    wrap = wrapper(vectorize_function, size)\n",
    "    n = timeit.timeit(wrap, number = 10)\n",
    "    \n",
    "    time_vector.append(n)\n",
    "    \n",
    "    \n",
    "    print(f'Size: {size} | Time: {n}')"
   ]
  },
  {
   "cell_type": "markdown",
   "id": "a9212e2f",
   "metadata": {},
   "source": [
    "#### Vectorization turns out to be 120x faster than the iterative method and 24x faster than the apply function!"
   ]
  },
  {
   "cell_type": "code",
   "execution_count": null,
   "id": "7d4ecee0",
   "metadata": {},
   "outputs": [],
   "source": []
  }
 ],
 "metadata": {
  "kernelspec": {
   "display_name": "Python 3 (ipykernel)",
   "language": "python",
   "name": "python3"
  },
  "language_info": {
   "codemirror_mode": {
    "name": "ipython",
    "version": 3
   },
   "file_extension": ".py",
   "mimetype": "text/x-python",
   "name": "python",
   "nbconvert_exporter": "python",
   "pygments_lexer": "ipython3",
   "version": "3.11.0"
  }
 },
 "nbformat": 4,
 "nbformat_minor": 5
}
